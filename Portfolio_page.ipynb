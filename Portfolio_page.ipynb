{
 "cells": [
  {
   "cell_type": "markdown",
   "id": "d3b87a5e-13ac-41f8-a31a-9ee6b5d1d67d",
   "metadata": {},
   "source": [
    "# Portfolio page project\n"
   ]
  },
  {
   "cell_type": "markdown",
   "id": "7fc4bcf6-46ef-4041-b063-ad378aa506bb",
   "metadata": {},
   "source": [
    "## 1.  Introduction - Project Overview:\n"
   ]
  },
  {
   "cell_type": "markdown",
   "id": "fcdec489-cc3d-427a-9e71-401ccc932851",
   "metadata": {},
   "source": [
    " As part of a collaboration, we would like to entrust a team with the creation of an online portfolio\n",
    " that meets our professional needs. This portfolio will serve as a showcase for our\n",
    " achievements, skills and services in an appealing and interactive way.\n",
    " \n",
    " The aim is to enable the team to put their web development and design skills into practice,\n",
    " while working on a concrete project. The portfolio must be ergonomic, responsive and reflect a\n",
    " visual identity consistent with our business."
   ]
  },
  {
   "cell_type": "markdown",
   "id": "9130527d-39c8-4ff8-aae7-4eff39ad1aab",
   "metadata": {},
   "source": [
    "## 2.Target Audience :"
   ]
  },
  {
   "cell_type": "markdown",
   "id": "f211b349-9fff-4f95-bf1d-00f6a28ee952",
   "metadata": {},
   "source": [
    "**- Primary Audience:** Potential clients seeking to understand our expertise and services.\n",
    "\n",
    "**- Secondary Audience:** Business partners and recruiters interested in our professional\n",
    " background and accomplishments.\n",
    "\n",
    " The portfolio should be tailored to appeal to these audiences by clearly communicating our\n",
    " value proposition and showcasing our work effectively."
   ]
  },
  {
   "cell_type": "markdown",
   "id": "b8eeb3ab-1d03-43e0-81df-a1d4ac58ef3e",
   "metadata": {},
   "source": [
    "## 3.Key Features:"
   ]
  },
  {
   "cell_type": "markdown",
   "id": "07ca1e9d-eec1-4861-840f-f8431da103d2",
   "metadata": {},
   "source": [
    " The portfolio should include the following features\n",
    "\n",
    " -**Modern, professional design:** A clean, visually appealing interface.\n",
    "\n",
    " -**Intuitive navigation:** Fluid user experience with a clear hierarchy of information.\n",
    "\n",
    " -**Project gallery:** Interactive display of our projects with descriptions and visuals.\n",
    "\n",
    " -**Contact form:** Enabling visitors to contact us easily."
   ]
  },
  {
   "cell_type": "markdown",
   "id": "ec60c101",
   "metadata": {},
   "source": [
    "## 4.Deliverables:\n",
    " -A functional portfolio website hosted online.\n",
    "\n",
    " -A manageable and responsive design.\n",
    "\n",
    " -A presentation of the project detailing the technical and graphic choices.\n",
    "\n",
    " -A proposed visual identity (logo, colours, typography) consistent with our business."
   ]
  },
  {
   "cell_type": "markdown",
   "id": "5e2a4df9",
   "metadata": {},
   "source": [
    "## 5.Constraints - Optional - Depending on the Project\n",
    "- Use of standard web technologies (HTML, CSS, JavaScript, frameworks such as React or Vue.js, or CMS such as WordPress if necessary).\n",
    "\n",
    "- Compatibility with the main browsers (Chrome, Firefox, Edge, Safari).\n",
    "\n",
    "- Data security and RGPD compliance.\n",
    "\n",
    "- Non-technical constraints.\n",
    "\n",
    "- Following best practice in UX/UI.\n",
    "\n",
    "- Scalability to add new sections at a later date.\n"
   ]
  }
 ],
 "metadata": {
  "kernelspec": {
   "display_name": "Python 3 (ipykernel)",
   "language": "python",
   "name": "python3"
  },
  "language_info": {
   "codemirror_mode": {
    "name": "ipython",
    "version": 3
   },
   "file_extension": ".py",
   "mimetype": "text/x-python",
   "name": "python",
   "nbconvert_exporter": "python",
   "pygments_lexer": "ipython3",
   "version": "3.12.4"
  }
 },
 "nbformat": 4,
 "nbformat_minor": 5
}
