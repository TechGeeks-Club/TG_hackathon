{
 "cells": [
  {
   "cell_type": "markdown",
   "id": "45c9a561-3c01-49b3-a48b-4f80fc1781ec",
   "metadata": {},
   "source": [
    "# Restaurant Landing\n",
    "___\n",
    "\n",
    "```{div} sd-sphinx-override sd-btn sd-text-wrap lang\n",
    "Change language \n",
    "```"
   ]
  },
  {
   "cell_type": "markdown",
   "id": "e6ab1105-0da7-4859-bb88-4c9fb7032d91",
   "metadata": {},
   "source": [
    "## 1. Introduction - Project Overview"
   ]
  },
  {
   "cell_type": "markdown",
   "id": "0227ae43-9b1b-493c-b863-f008a7a3456f",
   "metadata": {},
   "source": [
    "This project involves creating a landing page for a restaurant to showcase its menu, provide\n",
    " information about its services, and allow customers to make reservations or place orders online.\n",
    " \n",
    " The goal is to practice skills in front-end, back-end, UX/UI design, and database management\n",
    " while creating a functional and visually appealing product."
   ]
  },
  {
   "cell_type": "markdown",
   "id": "15375028-ff76-4799-8c94-26ca8680a530",
   "metadata": {},
   "source": [
    "## 2.Target Audience :\n",
    "**- End Users:** Potential customers (local residents, tourists, food enthusiasts).\n",
    "\n",
    "**- Client:** Restaurant owner (to promote the restaurant and manage reservations/orders)."
   ]
  },
  {
   "cell_type": "markdown",
   "id": "7871beb3-480e-47d8-a619-3609c55c422c",
   "metadata": {},
   "source": [
    "## 3.Key Features:\n",
    "**1. Front-End:** - Web page with a menu section (categorized by dishes, drinks, desserts, etc.). \n",
    "Gallery section with high-quality images of the restaurant and its dishes. - Reservation form\n",
    " for table bookings. - Google Maps integration to show the restaurant's location.\n",
    "\n",
    " **2. UX/UI Design:** - Modern and appetizing design. - Simple animations (e.g., hover effects on\n",
    " menu items). - Clear call-to-action buttons (e.g., \"Book a Table\" or \"Order Online\").\n",
    "\n",
    " **3. Back-End:** - Reservation management via a form. - Simulation of an online ordering system.\n",
    "\n",
    " **4. Database:** - Storage of reservation details (name, contact info, date/time, number of\n",
    " guests). - Storage of order details (optional, if online ordering is implemented)."
   ]
  },
  {
   "cell_type": "markdown",
   "id": "5f0cd814-5090-448b-9d2d-2f68c50ad17c",
   "metadata": {},
   "source": [
    "##  4. Deliverables\n",
    "**1. Front-End:** - Functional HTML/CSS/JavaScript code. - Responsive and accessible web\n",
    " page.\n",
    "\n",
    " **2. UX/UI Design:** - Figma prototype of the landing page. - Defined color palette and\n",
    " typography.\n",
    "\n",
    " **3. Back-End:** - Functional reservation form that sends data to a database. - Confirmation\n",
    " message after reservation.\n",
    "\n",
    " **4. Database:** - Database structure (SQL schema or MongoDB model). - Reservation and order\n",
    " data stored and accessible.\n",
    "\n",
    " **5. Documentation:** - A \n",
    "README.md (\n",
    " http://readme.md/) file explaining how to install and use\n",
    " the project. - Code comments to explain functionalities.\n"
   ]
  },
  {
   "cell_type": "markdown",
   "id": "b5edd8b3",
   "metadata": {},
   "source": [
    "##  5. Constraints - Optional - Depending on the Project\n",
    "\n",
    "**1. Technical Constraints:** - Compatibility with modern browsers (Chrome, Firefox, Edge). \n",
    "Responsive design (adapted to mobile, tablet, and desktop). - Data security (field validation,\n",
    " encryption of sensitive data).\n"
   ]
  }
 ],
 "metadata": {
  "kernelspec": {
   "display_name": "Python 3 (ipykernel)",
   "language": "python",
   "name": "python3"
  },
  "language_info": {
   "codemirror_mode": {
    "name": "ipython",
    "version": 3
   },
   "file_extension": ".py",
   "mimetype": "text/x-python",
   "name": "python",
   "nbconvert_exporter": "python",
   "pygments_lexer": "ipython3",
   "version": "3.12.4"
  }
 },
 "nbformat": 4,
 "nbformat_minor": 5
}
