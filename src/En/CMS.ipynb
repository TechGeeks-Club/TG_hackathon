{
 "cells": [
  {
   "cell_type": "markdown",
   "id": "d3b87a5e-13ac-41f8-a31a-9ee6b5d1d67d",
   "metadata": {},
   "source": [
    "# CMS\n",
    "Secure Content Management System with Multiple Users and Distinct Roles\n",
    "___\n",
    "\n",
    "```{div} sd-sphinx-override sd-btn sd-text-wrap lang\n",
    "Change language \n",
    "```"
   ]
  },
  {
   "cell_type": "markdown",
   "id": "7fc4bcf6-46ef-4041-b063-ad378aa506bb",
   "metadata": {},
   "source": [
    "## 1. Introduction - Project Overview\n"
   ]
  },
  {
   "cell_type": "markdown",
   "id": "fcdec489-cc3d-427a-9e71-401ccc932851",
   "metadata": {},
   "source": [
    "This project aims to develop a secure content management system (CMS) that enables \n",
    "different types of users (administrators, editors, and visitors) to interact with content based \n",
    "on their respective roles and permissions.\n",
    "\n",
    " The key objective is to implement a REST API that:\n",
    "\n",
    " - Manages user authentication via JWT (JSON Web Token).\n",
    "\n",
    " - Basic content management (CRUD operations)\n",
    "\n",
    " - Role-based access control (Admin, Editor, Visitor)\n",
    "\n",
    " Through this project, developers will gain hands-on experience with:\n",
    "\n",
    " #### - Access management\n",
    "\n",
    " #### - Backend server setup\n",
    "\n",
    " #### - Database implementation\n",
    "\n",
    " #### - Data security system design"
   ]
  },
  {
   "cell_type": "markdown",
   "id": "9130527d-39c8-4ff8-aae7-4eff39ad1aab",
   "metadata": {},
   "source": [
    "## 2.Target Audience :"
   ]
  },
  {
   "cell_type": "markdown",
   "id": "f211b349-9fff-4f95-bf1d-00f6a28ee952",
   "metadata": {},
   "source": [
    "The CMS is designed for platforms that require hierarchical content management with \n",
    "distinct levels of access. This system can be used in:\n",
    "\n",
    " ##### Blogs\n",
    "\n",
    " ##### Publishing platforms\n",
    "\n",
    " ##### Internal corporate systems\n",
    "\n",
    " ### User Roles & Permissions\n",
    "\n",
    " 1- Administrators Have full system control, including user and content management.\n",
    "\n",
    " 2- Editors Can create and modify content.\n",
    "\n",
    " 3- Visitors Can only view content."
   ]
  },
  {
   "cell_type": "markdown",
   "id": "973c3e18",
   "metadata": {},
   "source": [
    " ## 3. Main Functionalities"
   ]
  },
  {
   "cell_type": "markdown",
   "id": "7353f6d0",
   "metadata": {},
   "source": [
    "### 3.1. User Authentication & Management\n",
    "\n",
    " - Simple user registration & login (email & password).\n",
    "\n",
    " - JWT-based authentication with role-based access control.\n",
    "\n",
    " - Users stored in a JSON file (instead of a full database) to save time.\n",
    "\n",
    " ### 3.2. Content Management (CRUD Operations)\n",
    "\n",
    " - Admin & Editor Can create, edit, delete, and view content.\n",
    "\n",
    " - Visitors Can only view content.\n",
    "\n",
    " - Content stored in a JSON file (instead of a database) to simplify development.\n",
    "\n",
    " ### 3.3. Security & Data Protection\n",
    "\n",
    " - JWT authentication to protect API routes.\n",
    " \n",
    " - Hashed passwords for security.\n",
    "\n",
    " - Basic role-based access control enforced at the API level."
   ]
  },
  {
   "cell_type": "markdown",
   "id": "6922c9fc",
   "metadata": {},
   "source": [
    " ## 4. Deliverables"
   ]
  },
  {
   "cell_type": "markdown",
   "id": "e2d60424",
   "metadata": {},
   "source": [
    " At the end of the project, the team will provide:\n",
    "\n",
    " 1-**A functional REST API** with authentication and content management.\n",
    "\n",
    "2- The source code with comments included.\n",
    "\n",
    " **3- Technical documentation** covering:\n",
    "\n",
    " **- System architecture**\n",
    "\n",
    " **- API routes**\n",
    "\n",
    " **- Data models**\n",
    "\n",
    "\n",
    " **4- A final report detailing:** (a short README file explaining the project)\n",
    "\n",
    "  **-Project design**\n",
    "  **-Technical choices**\n",
    "\n",
    " **5- A presentation pitch** summarizing the project, including:\n",
    " ##### - Key features\n",
    " ##### - Challenges encountered"
   ]
  },
  {
   "cell_type": "markdown",
   "id": "5f9d2504",
   "metadata": {},
   "source": [
    " ## 5. Technical Requirements"
   ]
  },
  {
   "cell_type": "markdown",
   "id": "ea1a4a7b",
   "metadata": {},
   "source": [
    "#### 1. Language & Framework\n",
    "\n",
    " - Use **Node.js** with **Express** for backend development.\n",
    "\n",
    " #### 2. Database\n",
    " \n",
    " - Use **MongoDB** (preferably **MongoDB Atlas** for an easy online setup).\n",
    "\n",
    " - Utilize **Mongoose** to interact with the database.\n",
    "\n",
    " - simpler choice : Use **a JSON file** instead of a database to store users and content\n",
    "\n",
    " #### 3. Authentication & Security\n",
    "\n",
    " - Use **JWT (JSON Web Token)** for authentication.\n",
    " - Store JWT securely and verify user roles before accessing certain endpoints.\n",
    "\n",
    "  **4. Content Management**\n",
    "- **Administrators:** Full control (manage users and content).\n",
    "- **Editors:** Can create and modify content.\n",
    "- **Visitors:** Can only view content.\n",
    "\n",
    "**-5. Deployment**\n",
    " - **Run the API locally** on your machines using-:\n",
    " - **Node.js** (for the backend)- \n",
    " - **MongoDB** (either local or MongoDB Atlas for cloud storage).\n",
    "\n",
    "**-6. Testing**\n",
    "\n",
    " Validate API requests (use **Postman** to manually test API endpoints)"
   ]
  }
 ],
 "metadata": {
  "kernelspec": {
   "display_name": "Python 3 (ipykernel)",
   "language": "python",
   "name": "python3"
  },
  "language_info": {
   "codemirror_mode": {
    "name": "ipython",
    "version": 3
   },
   "file_extension": ".py",
   "mimetype": "text/x-python",
   "name": "python",
   "nbconvert_exporter": "python",
   "pygments_lexer": "ipython3",
   "version": "3.12.4"
  }
 },
 "nbformat": 4,
 "nbformat_minor": 5
}
