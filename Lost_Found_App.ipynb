{
 "cells": [
  {
   "cell_type": "markdown",
   "id": "45c9a561-3c01-49b3-a48b-4f80fc1781ec",
   "metadata": {},
   "source": [
    "# Lost & Found App"
   ]
  },
  {
   "cell_type": "markdown",
   "id": "e6ab1105-0da7-4859-bb88-4c9fb7032d91",
   "metadata": {},
   "source": [
    "## =1. Introduction - Project Overview"
   ]
  },
  {
   "cell_type": "markdown",
   "id": "0227ae43-9b1b-493c-b863-f008a7a3456f",
   "metadata": {},
   "source": [
    "The Lost & Found App is a web-based application designed for university students to report \n",
    "lost or found items. The system facilitates item retrieval by allowing users to post details and \n",
    "images of lost/found objects while matching reports based on categories and location.\n",
    " Complex functionalities, such as semantic matching, will be optional or replaced with simpler \n",
    "approaches like categorization."
   ]
  },
  {
   "cell_type": "markdown",
   "id": "15375028-ff76-4799-8c94-26ca8680a530",
   "metadata": {},
   "source": [
    "## 2.Target Audience :"
   ]
  },
  {
   "cell_type": "markdown",
   "id": "74777916-a5c5-418e-99c1-c4fd7b5a3d29",
   "metadata": {},
   "source": [
    "- University students who need to report **lost or found** items.\n",
    "\n",
    "- Administrators responsible for moderating content and ensuring platform safety \n",
    "(optional, only if mandatory features have been implemented)."
   ]
  },
  {
   "cell_type": "markdown",
   "id": "2ef8e37c-9bf7-4ed4-a841-df1e2db7fed2",
   "metadata": {},
   "source": [
    "## 3.Key Features"
   ]
  },
  {
   "cell_type": "markdown",
   "id": "26978b11-d3be-4bf5-adff-9cf14663ee70",
   "metadata": {},
   "source": [
    "### Mandatory Features: \n",
    " **User Authentication** (University email-based login, password reset).\n",
    "\n",
    "**Lost & Found Item Posting** (Category Student ID card, money, books, etc.), description, \n",
    "images, , location, etc.).\n",
    "\n",
    "**Item Search & Filtering** ( By category or date range; optionally by location (ex: which \n",
    "department, etc.)).\n",
    "\n",
    " A personnal space to view published reports.\n",
    "\n",
    " User Notifications (When someone replies to a published Lost & Found Item Post or for \n",
    "new chat messages and conversations).\n",
    "\n",
    "**Chat System** (For arranging item returns; basic text exchange only (you can add a \n",
    "comment functionality on posts))."
   ]
  },
  {
   "cell_type": "markdown",
   "id": "7871beb3-480e-47d8-a619-3609c55c422c",
   "metadata": {},
   "source": [
    "**Optional Features (for increased difficulty, if youʼve finished the mandatory features):**\n",
    "\n",
    "**- Content Moderation** ( Filtering user posts: deciding which should be published and which \n",
    "are irrelevant and should not be published).\n",
    "\n",
    "**- Basic Matching System** ( Category & location based suggestions, e.g., if you post about \n",
    "a lost item and shortly after a post with the same location and item category of that lost \n",
    "item is published, youʼll receive a notification).\n",
    "\n",
    " **- Advanced Matching** (Semantic analysis, or even image recognition).\n",
    " \n",
    " **- Banning Users** ( Admins can ban users who repeatedly post inappropriate or fraudulent \n",
    "content, which can be reported).\n"
   ]
  },
  {
   "cell_type": "markdown",
   "id": "ab98d789",
   "metadata": {},
   "source": [
    "##  4. Deliverables"
   ]
  },
  {
   "cell_type": "markdown",
   "id": "0c9b56d9",
   "metadata": {},
   "source": [
    " ### User Flow\n",
    " **1- User Authentication:**\n",
    " - Users sign up/log in using their university email and other relevant information.\n",
    "\n",
    " **2- Dashboard Access:**\n",
    " - Users view recent lost/found posts.\n",
    "\n",
    " - Search bar and filtering options (category, date, location).\n",
    "\n",
    " **3- Posting an Item:**\n",
    " - Users select \"Lost Item\" or \"Found Item.\"\n",
    "\n",
    " - Provide details (category, description, date, location).\n",
    "\n",
    " - Upload an image (optional but encouraged).\n",
    "\n",
    " - Submit (wonʼt get published until approved by moderators, optionally, only if the \n",
    "admin side is implemented).\n",
    "\n",
    " **4- Moderation ((admin side) optional; if not included in your solution, posts will be \n",
    "published automatically without verification)**\n",
    "\n",
    " **5- Item Matching & Notifications (optional):**\n",
    "\n",
    " - Users receive alerts if a found item matches their lost item (category & location\n",
    "based matching).\n",
    "\n",
    " - Users can contact the poster via an in-app chat system.\n",
    "\n",
    " **6- Retrieval Process:**\n",
    "\n",
    " - Users arrange pickup through chat.\n",
    "\n",
    " - Optionally, users can mark an item as **“Resolved.ˮ**"
   ]
  },
  {
   "cell_type": "markdown",
   "id": "ed0f0303",
   "metadata": {},
   "source": [
    " ## Specific Requirements\n",
    " \n",
    " **UI/UX Requirements:**\n",
    "\n",
    " - Minimalist and easy-to-use interface.\n",
    "\n",
    " - Mobile responsiveness.\n",
    "\n",
    " - Consistent theme with campus branding.\n",
    "\n",
    " - Clear call-to-action buttons (report, search, chat).\n",
    "\n",
    " - Accessibility features (color contrast, text resizing).\n",
    "\n",
    "**Stack Technologies Proposition (you can use any technologies, but here are some recommendations):**\n",
    "\n",
    " **- Front-end:** HTML, CSS, JavaScript (React or Vue recommended).\n",
    "\n",
    " **- Back-end:** PHP (Laravel) or Node.js (Express.js).\n",
    "\n",
    " **- Database:** MySQL or PostgreSQL (structured to handle items, users, reports).\n",
    "\n",
    " **- Security:** Basic input validation.\n"
   ]
  },
  {
   "cell_type": "markdown",
   "id": "2196c8ff",
   "metadata": {},
   "source": [
    "## 5. Constraints (Optional - Depending on the Project)\n",
    "\n",
    " - Limited access for non-university users to ensure only students use the platform.\n",
    "\n",
    " - Storage constraints for uploaded images (maximum file size limit).\n",
    "\n",
    " - Moderation delays if the admin review system is implemented.\n",
    "\n",
    " - Chat system limited to text only (no images or file attachments)."
   ]
  },
  {
   "cell_type": "markdown",
   "id": "bb9c010e",
   "metadata": {},
   "source": [
    "## 6. Conclusion\n",
    "\n",
    " The **Lost & Found App for Campus** will provide students with an easy way to retrieve lost \n",
    "belongings while ensuring a safe and moderated environment. With a focus on usability, \n",
    "efficiency, and basic moderation, the project remains within an **easy-to-medium** difficulty \n",
    "range, making it feasible for beginner developers while allowing room for optional complexity \n",
    "if desired.\n",
    "\n",
    " This document serves as a structured guideline for development, ensuring clarity in the \n",
    "project scope, required features, and implementation roadmap."
   ]
  }
 ],
 "metadata": {
  "kernelspec": {
   "display_name": "Python 3 (ipykernel)",
   "language": "python",
   "name": "python3"
  },
  "language_info": {
   "codemirror_mode": {
    "name": "ipython",
    "version": 3
   },
   "file_extension": ".py",
   "mimetype": "text/x-python",
   "name": "python",
   "nbconvert_exporter": "python",
   "pygments_lexer": "ipython3",
   "version": "3.12.4"
  }
 },
 "nbformat": 4,
 "nbformat_minor": 5
}
