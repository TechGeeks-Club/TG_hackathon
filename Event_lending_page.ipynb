{
 "cells": [
  {
   "cell_type": "markdown",
   "id": "45c9a561-3c01-49b3-a48b-4f80fc1781ec",
   "metadata": {},
   "source": [
    "# Event Landing Page :"
   ]
  },
  {
   "cell_type": "markdown",
   "id": "e6ab1105-0da7-4859-bb88-4c9fb7032d91",
   "metadata": {},
   "source": [
    "## 1. Introduction - Project Overview"
   ]
  },
  {
   "cell_type": "markdown",
   "id": "0227ae43-9b1b-493c-b863-f008a7a3456f",
   "metadata": {},
   "source": [
    " This project involves creating a landing page for an event (conference, workshops, etc.) to\n",
    " promote the event, provide information to users, and allow registration or even ticket purchases.\n",
    " \n",
    " The goal is to practice skills in front-end, back-end, UX/UI design, and database management\n",
    " while creating a functional and an aesthetic product."
   ]
  },
  {
   "cell_type": "markdown",
   "id": "15375028-ff76-4799-8c94-26ca8680a530",
   "metadata": {},
   "source": [
    "## 2.Target Audience :\n",
    " -**End Users:** People interested in the event (attendees, fans, professionals).\n",
    " \n",
    " -**Client:** Event organizer (to promote and manage registrations)."
   ]
  },
  {
   "cell_type": "markdown",
   "id": "2ef8e37c-9bf7-4ed4-a841-df1e2db7fed2",
   "metadata": {},
   "source": [
    "## 3. Key Features\n",
    " **1. Front-End:** - Web page with a countdown timer using JavaScript for the event. - Sections for\n",
    " the schedule, speakers/performers, and sponsors. - Registration form with field validation.\n",
    "\n",
    " **2. UX/UI Design:** - Modern and responsive design. - Simple animations to enhance user\n",
    " experience.\n",
    "\n",
    " **3. Back-End:** - Registration management via a form. - Simulation of a payment system.\n",
    " \n",
    " **4. Database:** - Storage of participant information (name, email, ticket type)."
   ]
  },
  {
   "cell_type": "markdown",
   "id": "4c122cee",
   "metadata": {},
   "source": [
    "##  4. Deliverables\n",
    "\n",
    " **Build a simple, responsive webpage with:** - A form (name, email, etc.). - Basic styling\n",
    " (colors, fonts, layout). - A confirmation message after form submission.\n",
    "\n",
    " **1. UX/UI Design:** - Figma prototype of the landing page. - Defined color palette and\n",
    " typography.\n",
    "\n",
    " **2. Back-End:** - Functional form that sends data to a database. - Confirmation message after\n",
    " registration.\n",
    "\n",
    " **3. Database:** - Database structure (SQL schema or MongoDB model). - Participant data stored\n",
    " and accessible.\n",
    "\n",
    " ### 4. Documentation: - A \n",
    "\n",
    "README.md (\n",
    " http://readme.md/) file explaining how to install and use\n",
    " the project. - Code comments to explain functionalities.\n",
    "\n",
    " ## 5. Constraints - Optional - Depending on the Project\n",
    "\n",
    "- Compatibility with modern browsers (Chrome, Firefox, Edge).\n",
    "\n",
    "- Data security (field validation, password encryption)."
   ]
  }
 ],
 "metadata": {
  "kernelspec": {
   "display_name": "Python 3 (ipykernel)",
   "language": "python",
   "name": "python3"
  },
  "language_info": {
   "codemirror_mode": {
    "name": "ipython",
    "version": 3
   },
   "file_extension": ".py",
   "mimetype": "text/x-python",
   "name": "python",
   "nbconvert_exporter": "python",
   "pygments_lexer": "ipython3",
   "version": "3.12.4"
  }
 },
 "nbformat": 4,
 "nbformat_minor": 5
}
