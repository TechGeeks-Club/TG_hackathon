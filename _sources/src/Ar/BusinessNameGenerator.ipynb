{
 "cells": [
  {
   "cell_type": "markdown",
   "id": "d3b87a5e-13ac-41f8-a31a-9ee6b5d1d67d",
   "metadata": {},
   "source": [
    "#  The Business Name Generator\n",
    "___\n",
    "```{div} sd-sphinx-override sd-btn sd-text-wrap lang\n",
    "Change language \n",
    "```"
   ]
  }
 ],
 "metadata": {
  "kernelspec": {
   "display_name": "Python 3 (ipykernel)",
   "language": "python",
   "name": "python3"
  },
  "language_info": {
   "codemirror_mode": {
    "name": "ipython",
    "version": 3
   },
   "file_extension": ".py",
   "mimetype": "text/x-python",
   "name": "python",
   "nbconvert_exporter": "python",
   "pygments_lexer": "ipython3",
   "version": "3.12.4"
  }
 },
 "nbformat": 4,
 "nbformat_minor": 5
}
